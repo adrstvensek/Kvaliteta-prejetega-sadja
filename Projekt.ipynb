{
 "cells": [
  {
   "cell_type": "code",
   "execution_count": 3,
   "metadata": {
    "collapsed": false
   },
   "outputs": [],
   "source": [
    "import pandas as pd\n",
    "pd.options.display.max_rows = 20\n",
    "%matplotlib inline"
   ]
  },
  {
   "cell_type": "markdown",
   "metadata": {},
   "source": [
    "# Kvaliteta prejetega sadja"
   ]
  },
  {
   "cell_type": "markdown",
   "metadata": {},
   "source": [
    "V projektni nalogi se ukvarjam z analizo prejetega sadja v hladilnico Evrosad d.o.o. Krško od zunanjih partnerjev v letih 2014 in 2015. Analiza je razdeljena na tri poglavja, in sicer na analizo po kvaliteti sadja (1. kvaliteta ali industrija), po sortah in po dobaviteljih. Primerjam tudi rezultate med letoma 2014 in 2015.\n",
    "\n",
    "Najprej uvozim tabelo, ki vsebuje naslednje stolpce: datum, dobavitelj, sorta, kvaliteta in količina v kilogramih. V hladilnico sprejemajo predvsem sorte jabolk, sicer pa sprejmejo tudi viljamovko, ki je sorta hruške, in redhaven, ki je sorta breskve. Posamezen dobavitelj torej v hladilnico večkrat na leto pripelje neko količino sadja (jabolk) določene sorte in kvalitete."
   ]
  },
  {
   "cell_type": "code",
   "execution_count": 112,
   "metadata": {
    "collapsed": false
   },
   "outputs": [],
   "source": [
    "kvaliteta = pd.read_csv('podatki.csv', sep=';', parse_dates=['Datum'])"
   ]
  },
  {
   "cell_type": "code",
   "execution_count": 113,
   "metadata": {
    "collapsed": false
   },
   "outputs": [
    {
     "data": {
      "text/html": [
       "<div>\n",
       "<table border=\"1\" class=\"dataframe\">\n",
       "  <thead>\n",
       "    <tr style=\"text-align: right;\">\n",
       "      <th></th>\n",
       "      <th>Datum</th>\n",
       "      <th>Dobavitelj</th>\n",
       "      <th>Sorta</th>\n",
       "      <th>Kvaliteta</th>\n",
       "      <th>Količina [kg]</th>\n",
       "    </tr>\n",
       "  </thead>\n",
       "  <tbody>\n",
       "    <tr>\n",
       "      <th>0</th>\n",
       "      <td>2014-07-14</td>\n",
       "      <td>Kodrič Milena</td>\n",
       "      <td>Redhaven</td>\n",
       "      <td>I.</td>\n",
       "      <td>820</td>\n",
       "    </tr>\n",
       "    <tr>\n",
       "      <th>1</th>\n",
       "      <td>2014-07-15</td>\n",
       "      <td>Kodrič Milena</td>\n",
       "      <td>Redhaven</td>\n",
       "      <td>I.</td>\n",
       "      <td>659</td>\n",
       "    </tr>\n",
       "    <tr>\n",
       "      <th>2</th>\n",
       "      <td>2014-07-16</td>\n",
       "      <td>Kodrič Milena</td>\n",
       "      <td>Redhaven</td>\n",
       "      <td>I.</td>\n",
       "      <td>1073</td>\n",
       "    </tr>\n",
       "    <tr>\n",
       "      <th>3</th>\n",
       "      <td>2014-07-17</td>\n",
       "      <td>Kodrič Milena</td>\n",
       "      <td>Redhaven</td>\n",
       "      <td>I.</td>\n",
       "      <td>1364</td>\n",
       "    </tr>\n",
       "    <tr>\n",
       "      <th>4</th>\n",
       "      <td>2014-07-18</td>\n",
       "      <td>Kodrič Milena</td>\n",
       "      <td>Redhaven</td>\n",
       "      <td>I.</td>\n",
       "      <td>1135</td>\n",
       "    </tr>\n",
       "    <tr>\n",
       "      <th>5</th>\n",
       "      <td>2014-07-21</td>\n",
       "      <td>Kodrič Milena</td>\n",
       "      <td>Redhaven</td>\n",
       "      <td>I.</td>\n",
       "      <td>1342</td>\n",
       "    </tr>\n",
       "    <tr>\n",
       "      <th>6</th>\n",
       "      <td>2014-07-22</td>\n",
       "      <td>Kodrič Milena</td>\n",
       "      <td>Redhaven</td>\n",
       "      <td>I.</td>\n",
       "      <td>924</td>\n",
       "    </tr>\n",
       "    <tr>\n",
       "      <th>7</th>\n",
       "      <td>2014-07-24</td>\n",
       "      <td>Kodrič Milena</td>\n",
       "      <td>Redhaven</td>\n",
       "      <td>I.</td>\n",
       "      <td>1035</td>\n",
       "    </tr>\n",
       "    <tr>\n",
       "      <th>8</th>\n",
       "      <td>2014-07-30</td>\n",
       "      <td>Levak Andrej</td>\n",
       "      <td>James Grieve</td>\n",
       "      <td>I.</td>\n",
       "      <td>1453</td>\n",
       "    </tr>\n",
       "    <tr>\n",
       "      <th>9</th>\n",
       "      <td>2014-06-08</td>\n",
       "      <td>BIF-VORPO</td>\n",
       "      <td>Viljamovka</td>\n",
       "      <td>I.</td>\n",
       "      <td>21789</td>\n",
       "    </tr>\n",
       "    <tr>\n",
       "      <th>...</th>\n",
       "      <td>...</td>\n",
       "      <td>...</td>\n",
       "      <td>...</td>\n",
       "      <td>...</td>\n",
       "      <td>...</td>\n",
       "    </tr>\n",
       "    <tr>\n",
       "      <th>1051</th>\n",
       "      <td>2015-10-28</td>\n",
       "      <td>Univerza MB</td>\n",
       "      <td>Jonagold</td>\n",
       "      <td>I.</td>\n",
       "      <td>3550</td>\n",
       "    </tr>\n",
       "    <tr>\n",
       "      <th>1052</th>\n",
       "      <td>2015-10-28</td>\n",
       "      <td>Univerza MB</td>\n",
       "      <td>Evelina</td>\n",
       "      <td>I.</td>\n",
       "      <td>303</td>\n",
       "    </tr>\n",
       "    <tr>\n",
       "      <th>1053</th>\n",
       "      <td>2015-10-28</td>\n",
       "      <td>Univerza MB</td>\n",
       "      <td>Eko Topaz</td>\n",
       "      <td>I.</td>\n",
       "      <td>644</td>\n",
       "    </tr>\n",
       "    <tr>\n",
       "      <th>1054</th>\n",
       "      <td>2015-02-10</td>\n",
       "      <td>Kodrič Milena</td>\n",
       "      <td>Idared</td>\n",
       "      <td>I.</td>\n",
       "      <td>1784</td>\n",
       "    </tr>\n",
       "    <tr>\n",
       "      <th>1055</th>\n",
       "      <td>2015-02-10</td>\n",
       "      <td>Univerza MB</td>\n",
       "      <td>Eko Opal</td>\n",
       "      <td>I.</td>\n",
       "      <td>5328</td>\n",
       "    </tr>\n",
       "    <tr>\n",
       "      <th>1056</th>\n",
       "      <td>2015-02-10</td>\n",
       "      <td>Univerza MB</td>\n",
       "      <td>Evelina</td>\n",
       "      <td>I.</td>\n",
       "      <td>15353</td>\n",
       "    </tr>\n",
       "    <tr>\n",
       "      <th>1057</th>\n",
       "      <td>2015-02-10</td>\n",
       "      <td>Kunej Ludvik</td>\n",
       "      <td>Idared</td>\n",
       "      <td>Industrija</td>\n",
       "      <td>4016</td>\n",
       "    </tr>\n",
       "    <tr>\n",
       "      <th>1058</th>\n",
       "      <td>2015-02-10</td>\n",
       "      <td>Šušterič Vojko</td>\n",
       "      <td>Evelina</td>\n",
       "      <td>I.</td>\n",
       "      <td>10422</td>\n",
       "    </tr>\n",
       "    <tr>\n",
       "      <th>1059</th>\n",
       "      <td>2015-02-10</td>\n",
       "      <td>Kovačič Franc</td>\n",
       "      <td>Idared</td>\n",
       "      <td>I.</td>\n",
       "      <td>1698</td>\n",
       "    </tr>\n",
       "    <tr>\n",
       "      <th>1060</th>\n",
       "      <td>2015-02-10</td>\n",
       "      <td>Univerza MB</td>\n",
       "      <td>Evelina</td>\n",
       "      <td>I.</td>\n",
       "      <td>17119</td>\n",
       "    </tr>\n",
       "  </tbody>\n",
       "</table>\n",
       "<p>1061 rows × 5 columns</p>\n",
       "</div>"
      ],
      "text/plain": [
       "          Datum      Dobavitelj         Sorta   Kvaliteta  Količina [kg]\n",
       "0    2014-07-14   Kodrič Milena      Redhaven          I.            820\n",
       "1    2014-07-15   Kodrič Milena      Redhaven          I.            659\n",
       "2    2014-07-16   Kodrič Milena      Redhaven          I.           1073\n",
       "3    2014-07-17   Kodrič Milena      Redhaven          I.           1364\n",
       "4    2014-07-18   Kodrič Milena      Redhaven          I.           1135\n",
       "5    2014-07-21   Kodrič Milena      Redhaven          I.           1342\n",
       "6    2014-07-22   Kodrič Milena      Redhaven          I.            924\n",
       "7    2014-07-24   Kodrič Milena      Redhaven          I.           1035\n",
       "8    2014-07-30    Levak Andrej  James Grieve          I.           1453\n",
       "9    2014-06-08       BIF-VORPO    Viljamovka          I.          21789\n",
       "...         ...             ...           ...         ...            ...\n",
       "1051 2015-10-28     Univerza MB      Jonagold          I.           3550\n",
       "1052 2015-10-28     Univerza MB       Evelina          I.            303\n",
       "1053 2015-10-28     Univerza MB     Eko Topaz          I.            644\n",
       "1054 2015-02-10   Kodrič Milena        Idared          I.           1784\n",
       "1055 2015-02-10     Univerza MB      Eko Opal          I.           5328\n",
       "1056 2015-02-10     Univerza MB       Evelina          I.          15353\n",
       "1057 2015-02-10    Kunej Ludvik        Idared  Industrija           4016\n",
       "1058 2015-02-10  Šušterič Vojko       Evelina          I.          10422\n",
       "1059 2015-02-10   Kovačič Franc        Idared          I.           1698\n",
       "1060 2015-02-10     Univerza MB       Evelina          I.          17119\n",
       "\n",
       "[1061 rows x 5 columns]"
      ]
     },
     "execution_count": 113,
     "metadata": {},
     "output_type": "execute_result"
    }
   ],
   "source": [
    "kvaliteta"
   ]
  },
  {
   "cell_type": "markdown",
   "metadata": {},
   "source": [
    "# 1 Analiza po kvaliteti sadja"
   ]
  },
  {
   "cell_type": "code",
   "execution_count": 114,
   "metadata": {
    "collapsed": false
   },
   "outputs": [
    {
     "data": {
      "text/html": [
       "<div>\n",
       "<table border=\"1\" class=\"dataframe\">\n",
       "  <thead>\n",
       "    <tr style=\"text-align: right;\">\n",
       "      <th></th>\n",
       "      <th>Količina [kg]</th>\n",
       "    </tr>\n",
       "    <tr>\n",
       "      <th>Leto</th>\n",
       "      <th></th>\n",
       "    </tr>\n",
       "  </thead>\n",
       "  <tbody>\n",
       "    <tr>\n",
       "      <th>2014</th>\n",
       "      <td>3719633</td>\n",
       "    </tr>\n",
       "    <tr>\n",
       "      <th>2015</th>\n",
       "      <td>5026230</td>\n",
       "    </tr>\n",
       "  </tbody>\n",
       "</table>\n",
       "</div>"
      ],
      "text/plain": [
       "      Količina [kg]\n",
       "Leto               \n",
       "2014        3719633\n",
       "2015        5026230"
      ]
     },
     "execution_count": 114,
     "metadata": {},
     "output_type": "execute_result"
    }
   ],
   "source": [
    "količina_po_letih = kvaliteta.groupby(kvaliteta['Datum'].dt.year).sum()\n",
    "količina_po_letih = količina_po_letih.rename_axis('Leto')\n",
    "količina_po_letih"
   ]
  },
  {
   "cell_type": "code",
   "execution_count": 115,
   "metadata": {
    "collapsed": false
   },
   "outputs": [
    {
     "data": {
      "text/plain": [
       "array([<matplotlib.axes._subplots.AxesSubplot object at 0x000002402279F4A8>], dtype=object)"
      ]
     },
     "execution_count": 115,
     "metadata": {},
     "output_type": "execute_result"
    },
    {
     "data": {
      "image/png": "[encoded data removed]",
      "text/plain": [
       "<matplotlib.figure.Figure at 0x2402279fa20>"
      ]
     },
     "metadata": {},
     "output_type": "display_data"
    }
   ],
   "source": [
    "količina_po_letih.plot(kind='pie', subplots=True, title=\"Razmerje med količino prejetega sadja v letih 2014 in 2015\")"
   ]
  },
  {
   "cell_type": "markdown",
   "metadata": {},
   "source": [
    "Iz grafa je razvidno, da je bilo leta 2015 pripeljanih več jabolk kot leta 2014. Razlog so verjetno naravni pogoji, ki so vplivali na uspešnost pridelave jabolk."
   ]
  },
  {
   "cell_type": "code",
   "execution_count": 13,
   "metadata": {
    "collapsed": false
   },
   "outputs": [
    {
     "data": {
      "text/plain": [
       "array([<matplotlib.axes._subplots.AxesSubplot object at 0x000002401F472A58>], dtype=object)"
      ]
     },
     "execution_count": 13,
     "metadata": {},
     "output_type": "execute_result"
    },
    {
     "data": {
      "image/png": "[encoded data removed]",
      "text/plain": [
       "<matplotlib.figure.Figure at 0x2401add4b38>"
      ]
     },
     "metadata": {},
     "output_type": "display_data"
    }
   ],
   "source": [
    "skupna_količina_po_kvaliteti = kvaliteta.groupby('Kvaliteta').sum()\n",
    "skupna_količina_po_kvaliteti.plot(kind='pie', subplots='True', title=\"Razmerje med prejetim sadjem 1. kvalitete in industrije\")"
   ]
  },
  {
   "cell_type": "markdown",
   "metadata": {},
   "source": [
    "V hladilnico je bilo pripeljanih veliko več jabolk 1. kvalitete kot pa industrije. Podjetje svojim zunanjim partnerjem namreč za industrijo plačuje izredno nizko ceno, zato jim dovoljuje, da jo prodajo sami."
   ]
  },
  {
   "cell_type": "code",
   "execution_count": 9,
   "metadata": {
    "collapsed": false
   },
   "outputs": [
    {
     "data": {
      "text/html": [
       "<div>\n",
       "<table border=\"1\" class=\"dataframe\">\n",
       "  <thead>\n",
       "    <tr style=\"text-align: right;\">\n",
       "      <th></th>\n",
       "      <th></th>\n",
       "      <th>Količina [kg]</th>\n",
       "    </tr>\n",
       "    <tr>\n",
       "      <th>Leto</th>\n",
       "      <th>Kvaliteta</th>\n",
       "      <th></th>\n",
       "    </tr>\n",
       "  </thead>\n",
       "  <tbody>\n",
       "    <tr>\n",
       "      <th rowspan=\"2\" valign=\"top\">2014</th>\n",
       "      <th>I.</th>\n",
       "      <td>3687052</td>\n",
       "    </tr>\n",
       "    <tr>\n",
       "      <th>Industrija</th>\n",
       "      <td>32581</td>\n",
       "    </tr>\n",
       "    <tr>\n",
       "      <th rowspan=\"2\" valign=\"top\">2015</th>\n",
       "      <th>I.</th>\n",
       "      <td>4839207</td>\n",
       "    </tr>\n",
       "    <tr>\n",
       "      <th>Industrija</th>\n",
       "      <td>187023</td>\n",
       "    </tr>\n",
       "  </tbody>\n",
       "</table>\n",
       "</div>"
      ],
      "text/plain": [
       "                 Količina [kg]\n",
       "Leto Kvaliteta                \n",
       "2014 I.                3687052\n",
       "     Industrija          32581\n",
       "2015 I.                4839207\n",
       "     Industrija         187023"
      ]
     },
     "execution_count": 9,
     "metadata": {},
     "output_type": "execute_result"
    }
   ],
   "source": [
    "količina_po_kvaliteti = kvaliteta.groupby([kvaliteta['Datum'].dt.year, kvaliteta['Kvaliteta']]).sum()\n",
    "količina_po_kvaliteti = količina_po_kvaliteti.rename_axis(['Leto', 'Kvaliteta'])\n",
    "količina_po_kvaliteti"
   ]
  },
  {
   "cell_type": "code",
   "execution_count": 15,
   "metadata": {
    "collapsed": false
   },
   "outputs": [
    {
     "data": {
      "text/plain": [
       "<matplotlib.text.Text at 0x2401f7aac18>"
      ]
     },
     "execution_count": 15,
     "metadata": {},
     "output_type": "execute_result"
    },
    {
     "data": {
      "image/png": "[encoded data removed]",
      "text/plain": [
       "<matplotlib.figure.Figure at 0x2401f74cf60>"
      ]
     },
     "metadata": {},
     "output_type": "display_data"
    }
   ],
   "source": [
    "količina_po_kvaliteti.unstack()\\\n",
    "    .plot(kind='bar', y='Količina [kg]', title=\"Količina prejetega sadja po kvaliteti v letih 2014 in 2015\")\\\n",
    "    .set_ylabel(\"Količina [kg]\")"
   ]
  },
  {
   "cell_type": "markdown",
   "metadata": {},
   "source": [
    "Leto 2015 je bilo na splošno uspešnejše. V hladilnico so zunanji partnerji pripeljali več jabolk 1. kvalitete in industrije, vendar je bilo industrije vseeno zelo malo.\n",
    "\n",
    "Zanima me, kateri dobavitelj je pripeljal največ industrije."
   ]
  },
  {
   "cell_type": "code",
   "execution_count": 27,
   "metadata": {
    "collapsed": false
   },
   "outputs": [
    {
     "data": {
      "text/html": [
       "<div>\n",
       "<table border=\"1\" class=\"dataframe\">\n",
       "  <thead>\n",
       "    <tr style=\"text-align: right;\">\n",
       "      <th></th>\n",
       "      <th>Količina [kg]</th>\n",
       "    </tr>\n",
       "    <tr>\n",
       "      <th>Dobavitelj</th>\n",
       "      <th></th>\n",
       "    </tr>\n",
       "  </thead>\n",
       "  <tbody>\n",
       "    <tr>\n",
       "      <th>Levak Andrej</th>\n",
       "      <td>70876</td>\n",
       "    </tr>\n",
       "    <tr>\n",
       "      <th>Kunej Ludvik</th>\n",
       "      <td>21534</td>\n",
       "    </tr>\n",
       "    <tr>\n",
       "      <th>Umek Jožefa</th>\n",
       "      <td>17307</td>\n",
       "    </tr>\n",
       "    <tr>\n",
       "      <th>Umek Jože</th>\n",
       "      <td>17006</td>\n",
       "    </tr>\n",
       "    <tr>\n",
       "      <th>Tonjko Stanislav</th>\n",
       "      <td>16713</td>\n",
       "    </tr>\n",
       "    <tr>\n",
       "      <th>Molan Mitja</th>\n",
       "      <td>13216</td>\n",
       "    </tr>\n",
       "    <tr>\n",
       "      <th>Petan Marija</th>\n",
       "      <td>9724</td>\n",
       "    </tr>\n",
       "    <tr>\n",
       "      <th>Kovačič Franc</th>\n",
       "      <td>7509</td>\n",
       "    </tr>\n",
       "    <tr>\n",
       "      <th>Metelko Gabrijel</th>\n",
       "      <td>7011</td>\n",
       "    </tr>\n",
       "    <tr>\n",
       "      <th>Kodrič Milena</th>\n",
       "      <td>6584</td>\n",
       "    </tr>\n",
       "    <tr>\n",
       "      <th>Rojc</th>\n",
       "      <td>6418</td>\n",
       "    </tr>\n",
       "    <tr>\n",
       "      <th>Pinterič Antonija</th>\n",
       "      <td>5878</td>\n",
       "    </tr>\n",
       "    <tr>\n",
       "      <th>Rupar Bojan</th>\n",
       "      <td>5572</td>\n",
       "    </tr>\n",
       "    <tr>\n",
       "      <th>Bogovič Franc</th>\n",
       "      <td>3731</td>\n",
       "    </tr>\n",
       "    <tr>\n",
       "      <th>Kranjčevič Vinko</th>\n",
       "      <td>3709</td>\n",
       "    </tr>\n",
       "    <tr>\n",
       "      <th>Mlakar Branko</th>\n",
       "      <td>2268</td>\n",
       "    </tr>\n",
       "    <tr>\n",
       "      <th>Kovačič Alojz</th>\n",
       "      <td>2005</td>\n",
       "    </tr>\n",
       "    <tr>\n",
       "      <th>Zagorc Ema</th>\n",
       "      <td>999</td>\n",
       "    </tr>\n",
       "    <tr>\n",
       "      <th>Kozole Boštjan</th>\n",
       "      <td>898</td>\n",
       "    </tr>\n",
       "    <tr>\n",
       "      <th>Omerzel Jožica</th>\n",
       "      <td>646</td>\n",
       "    </tr>\n",
       "  </tbody>\n",
       "</table>\n",
       "</div>"
      ],
      "text/plain": [
       "                   Količina [kg]\n",
       "Dobavitelj                      \n",
       "Levak Andrej               70876\n",
       "Kunej Ludvik               21534\n",
       "Umek Jožefa                17307\n",
       "Umek Jože                  17006\n",
       "Tonjko Stanislav           16713\n",
       "Molan Mitja                13216\n",
       "Petan Marija                9724\n",
       "Kovačič Franc               7509\n",
       "Metelko Gabrijel            7011\n",
       "Kodrič Milena               6584\n",
       "Rojc                        6418\n",
       "Pinterič Antonija           5878\n",
       "Rupar Bojan                 5572\n",
       "Bogovič Franc               3731\n",
       "Kranjčevič Vinko            3709\n",
       "Mlakar Branko               2268\n",
       "Kovačič Alojz               2005\n",
       "Zagorc Ema                   999\n",
       "Kozole Boštjan               898\n",
       "Omerzel Jožica               646"
      ]
     },
     "execution_count": 27,
     "metadata": {},
     "output_type": "execute_result"
    }
   ],
   "source": [
    "industrija = kvaliteta[kvaliteta['Kvaliteta'] == 'Industrija']\n",
    "industrija.groupby('Dobavitelj').sum().sort_values('Količina [kg]', ascending=False)"
   ]
  },
  {
   "cell_type": "markdown",
   "metadata": {},
   "source": [
    "To je bil Levak Andrej. Zanima me še, koliko industrije je pripeljal v posameznem letu."
   ]
  },
  {
   "cell_type": "code",
   "execution_count": 36,
   "metadata": {
    "collapsed": false
   },
   "outputs": [
    {
     "data": {
      "text/html": [
       "<div>\n",
       "<table border=\"1\" class=\"dataframe\">\n",
       "  <thead>\n",
       "    <tr style=\"text-align: right;\">\n",
       "      <th></th>\n",
       "      <th></th>\n",
       "      <th>Količina [kg]</th>\n",
       "    </tr>\n",
       "    <tr>\n",
       "      <th>Datum</th>\n",
       "      <th>Kvaliteta</th>\n",
       "      <th></th>\n",
       "    </tr>\n",
       "  </thead>\n",
       "  <tbody>\n",
       "    <tr>\n",
       "      <th>2014</th>\n",
       "      <th>I.</th>\n",
       "      <td>510756</td>\n",
       "    </tr>\n",
       "    <tr>\n",
       "      <th rowspan=\"2\" valign=\"top\">2015</th>\n",
       "      <th>I.</th>\n",
       "      <td>422594</td>\n",
       "    </tr>\n",
       "    <tr>\n",
       "      <th>Industrija</th>\n",
       "      <td>70876</td>\n",
       "    </tr>\n",
       "  </tbody>\n",
       "</table>\n",
       "</div>"
      ],
      "text/plain": [
       "                  Količina [kg]\n",
       "Datum Kvaliteta                \n",
       "2014  I.                 510756\n",
       "2015  I.                 422594\n",
       "      Industrija          70876"
      ]
     },
     "execution_count": 36,
     "metadata": {},
     "output_type": "execute_result"
    }
   ],
   "source": [
    "levak_andrej = kvaliteta[kvaliteta['Dobavitelj'] == 'Levak Andrej'].groupby([kvaliteta['Datum'].dt.year, kvaliteta['Kvaliteta']]).sum()\n",
    "levak_andrej"
   ]
  },
  {
   "cell_type": "code",
   "execution_count": 117,
   "metadata": {
    "collapsed": false
   },
   "outputs": [
    {
     "data": {
      "text/plain": [
       "<matplotlib.text.Text at 0x240227cbcf8>"
      ]
     },
     "execution_count": 117,
     "metadata": {},
     "output_type": "execute_result"
    },
    {
     "data": {
      "image/png": "[encoded data removed]",
      "text/plain": [
       "<matplotlib.figure.Figure at 0x240227b7e80>"
      ]
     },
     "metadata": {},
     "output_type": "display_data"
    }
   ],
   "source": [
    "levak_andrej.unstack().plot(kind='bar', y='Količina [kg]', title=\"Količina pripeljanega sadja dobavitelja Levak Andreja\")\\\n",
    "    .set_ylabel(\"Količina [kg]\")"
   ]
  },
  {
   "cell_type": "markdown",
   "metadata": {},
   "source": [
    "Levak Andrej je izjema glede na prejšnje ugotovitve, saj je skupno več jabolk pripeljal leta 2014. Takrat tudi ni pripeljal nič industrije."
   ]
  },
  {
   "cell_type": "markdown",
   "metadata": {},
   "source": [
    "# 2 Analiza po dobaviteljih "
   ]
  },
  {
   "cell_type": "code",
   "execution_count": 69,
   "metadata": {
    "collapsed": true
   },
   "outputs": [],
   "source": [
    "količina_na_dobavitelja = kvaliteta.groupby('Dobavitelj').aggregate(sum).sort_values('Količina [kg]', ascending = False)[:10]"
   ]
  },
  {
   "cell_type": "code",
   "execution_count": 70,
   "metadata": {
    "collapsed": false
   },
   "outputs": [
    {
     "data": {
      "text/html": [
       "<div>\n",
       "<table border=\"1\" class=\"dataframe\">\n",
       "  <thead>\n",
       "    <tr style=\"text-align: right;\">\n",
       "      <th></th>\n",
       "      <th>Količina [kg]</th>\n",
       "    </tr>\n",
       "    <tr>\n",
       "      <th>Dobavitelj</th>\n",
       "      <th></th>\n",
       "    </tr>\n",
       "  </thead>\n",
       "  <tbody>\n",
       "    <tr>\n",
       "      <th>Univerza MB</th>\n",
       "      <td>2058909</td>\n",
       "    </tr>\n",
       "    <tr>\n",
       "      <th>VRTOVI VOČA</th>\n",
       "      <td>1020052</td>\n",
       "    </tr>\n",
       "    <tr>\n",
       "      <th>Levak Andrej</th>\n",
       "      <td>1004226</td>\n",
       "    </tr>\n",
       "    <tr>\n",
       "      <th>Šušterič Vojko</th>\n",
       "      <td>816309</td>\n",
       "    </tr>\n",
       "    <tr>\n",
       "      <th>Molan Mitja</th>\n",
       "      <td>476179</td>\n",
       "    </tr>\n",
       "    <tr>\n",
       "      <th>Lah Leon</th>\n",
       "      <td>404444</td>\n",
       "    </tr>\n",
       "    <tr>\n",
       "      <th>Martini  Rene</th>\n",
       "      <td>280355</td>\n",
       "    </tr>\n",
       "    <tr>\n",
       "      <th>Mlakar Branko</th>\n",
       "      <td>263371</td>\n",
       "    </tr>\n",
       "    <tr>\n",
       "      <th>Novak Ludvik</th>\n",
       "      <td>261215</td>\n",
       "    </tr>\n",
       "    <tr>\n",
       "      <th>BIF-VORPO</th>\n",
       "      <td>241504</td>\n",
       "    </tr>\n",
       "  </tbody>\n",
       "</table>\n",
       "</div>"
      ],
      "text/plain": [
       "                Količina [kg]\n",
       "Dobavitelj                   \n",
       "Univerza MB           2058909\n",
       "VRTOVI VOČA           1020052\n",
       "Levak Andrej          1004226\n",
       "Šušterič Vojko         816309\n",
       "Molan Mitja            476179\n",
       "Lah Leon               404444\n",
       "Martini  Rene          280355\n",
       "Mlakar Branko          263371\n",
       "Novak Ludvik           261215\n",
       "BIF-VORPO              241504"
      ]
     },
     "execution_count": 70,
     "metadata": {},
     "output_type": "execute_result"
    }
   ],
   "source": [
    "količina_na_dobavitelja"
   ]
  },
  {
   "cell_type": "markdown",
   "metadata": {},
   "source": [
    "Največ sadja je pripeljala Univerza MB."
   ]
  },
  {
   "cell_type": "code",
   "execution_count": 72,
   "metadata": {
    "collapsed": false
   },
   "outputs": [
    {
     "data": {
      "text/plain": [
       "<matplotlib.text.Text at 0x24020c93438>"
      ]
     },
     "execution_count": 72,
     "metadata": {},
     "output_type": "execute_result"
    },
    {
     "data": {
      "image/png": "[encoded data removed]",
      "text/plain": [
       "<matplotlib.figure.Figure at 0x24021343ba8>"
      ]
     },
     "metadata": {},
     "output_type": "display_data"
    }
   ],
   "source": [
    "količina_na_dobavitelja\\\n",
    "    .plot(kind='bar', y='Količina [kg]', title=\"Količina prejetega sadja desetih največjih zunanjih partnerjev\")\\\n",
    "    .set_ylabel('Količina [kg]')"
   ]
  },
  {
   "cell_type": "code",
   "execution_count": 56,
   "metadata": {
    "collapsed": false
   },
   "outputs": [],
   "source": [
    "količina_na_dobavitelja_index = količina_na_dobavitelja.reset_index()"
   ]
  },
  {
   "cell_type": "code",
   "execution_count": 59,
   "metadata": {
    "collapsed": false
   },
   "outputs": [],
   "source": [
    "prva_kvaliteta = kvaliteta[kvaliteta['Kvaliteta'] == 'I.']\n",
    "dobavitelji_prva = prva_kvaliteta.groupby('Dobavitelj').sum().sort_values('Količina [kg]', ascending = False)[:10]\n",
    "dobavitelji_prva_index = dobavitelji_prva.reset_index()"
   ]
  },
  {
   "cell_type": "code",
   "execution_count": 58,
   "metadata": {
    "collapsed": false
   },
   "outputs": [
    {
     "data": {
      "text/html": [
       "<div>\n",
       "<table border=\"1\" class=\"dataframe\">\n",
       "  <thead>\n",
       "    <tr style=\"text-align: right;\">\n",
       "      <th></th>\n",
       "      <th>Dobavitelj</th>\n",
       "      <th>Količina [kg]</th>\n",
       "    </tr>\n",
       "  </thead>\n",
       "  <tbody>\n",
       "    <tr>\n",
       "      <th>0</th>\n",
       "      <td>Univerza MB</td>\n",
       "      <td>2058909</td>\n",
       "    </tr>\n",
       "    <tr>\n",
       "      <th>1</th>\n",
       "      <td>VRTOVI VOČA</td>\n",
       "      <td>1020052</td>\n",
       "    </tr>\n",
       "    <tr>\n",
       "      <th>2</th>\n",
       "      <td>Šušterič Vojko</td>\n",
       "      <td>816309</td>\n",
       "    </tr>\n",
       "    <tr>\n",
       "      <th>3</th>\n",
       "      <td>Lah Leon</td>\n",
       "      <td>404444</td>\n",
       "    </tr>\n",
       "    <tr>\n",
       "      <th>4</th>\n",
       "      <td>Martini  Rene</td>\n",
       "      <td>280355</td>\n",
       "    </tr>\n",
       "    <tr>\n",
       "      <th>5</th>\n",
       "      <td>Novak Ludvik</td>\n",
       "      <td>261215</td>\n",
       "    </tr>\n",
       "    <tr>\n",
       "      <th>6</th>\n",
       "      <td>BIF-VORPO</td>\n",
       "      <td>241504</td>\n",
       "    </tr>\n",
       "  </tbody>\n",
       "</table>\n",
       "</div>"
      ],
      "text/plain": [
       "       Dobavitelj  Količina [kg]\n",
       "0     Univerza MB        2058909\n",
       "1     VRTOVI VOČA        1020052\n",
       "2  Šušterič Vojko         816309\n",
       "3        Lah Leon         404444\n",
       "4   Martini  Rene         280355\n",
       "5    Novak Ludvik         261215\n",
       "6       BIF-VORPO         241504"
      ]
     },
     "execution_count": 58,
     "metadata": {},
     "output_type": "execute_result"
    }
   ],
   "source": [
    "pd.merge(količina_na_dobavitelja_index, dobavitelji_prva_index)"
   ]
  },
  {
   "cell_type": "markdown",
   "metadata": {},
   "source": [
    "Teh sedem dobaviteljev, ki so med desetimi največjimi zunanjimi partnerji, je v dveh letih pripeljalo samo jabolka 1. kvalitete. Sklepam, da večji dobavitelji lažje najdejo trg za jabolka slabše kvalitete kot manjši dobavitelji."
   ]
  },
  {
   "cell_type": "markdown",
   "metadata": {},
   "source": [
    "Zdaj bi rada videla količino prejetih jabolk od Univerze MB po posameznih sortah."
   ]
  },
  {
   "cell_type": "code",
   "execution_count": 118,
   "metadata": {
    "collapsed": false
   },
   "outputs": [
    {
     "data": {
      "text/html": [
       "<div>\n",
       "<table border=\"1\" class=\"dataframe\">\n",
       "  <thead>\n",
       "    <tr style=\"text-align: right;\">\n",
       "      <th></th>\n",
       "      <th>Količina [kg]</th>\n",
       "    </tr>\n",
       "    <tr>\n",
       "      <th>Sorta</th>\n",
       "      <th></th>\n",
       "    </tr>\n",
       "  </thead>\n",
       "  <tbody>\n",
       "    <tr>\n",
       "      <th>Royal Gala</th>\n",
       "      <td>535815</td>\n",
       "    </tr>\n",
       "    <tr>\n",
       "      <th>Zlati Delišes</th>\n",
       "      <td>454787</td>\n",
       "    </tr>\n",
       "    <tr>\n",
       "      <th>Evelina</th>\n",
       "      <td>356495</td>\n",
       "    </tr>\n",
       "    <tr>\n",
       "      <th>Pinova</th>\n",
       "      <td>165786</td>\n",
       "    </tr>\n",
       "    <tr>\n",
       "      <th>Idared</th>\n",
       "      <td>147204</td>\n",
       "    </tr>\n",
       "    <tr>\n",
       "      <th>Jonagold</th>\n",
       "      <td>81029</td>\n",
       "    </tr>\n",
       "    <tr>\n",
       "      <th>Fuji</th>\n",
       "      <td>79252</td>\n",
       "    </tr>\n",
       "    <tr>\n",
       "      <th>Braeburn</th>\n",
       "      <td>65626</td>\n",
       "    </tr>\n",
       "    <tr>\n",
       "      <th>Gala</th>\n",
       "      <td>49468</td>\n",
       "    </tr>\n",
       "    <tr>\n",
       "      <th>Eko Opal</th>\n",
       "      <td>46669</td>\n",
       "    </tr>\n",
       "    <tr>\n",
       "      <th>Gala Must</th>\n",
       "      <td>29543</td>\n",
       "    </tr>\n",
       "    <tr>\n",
       "      <th>Elstar</th>\n",
       "      <td>25192</td>\n",
       "    </tr>\n",
       "    <tr>\n",
       "      <th>Eko Topaz</th>\n",
       "      <td>22043</td>\n",
       "    </tr>\n",
       "  </tbody>\n",
       "</table>\n",
       "</div>"
      ],
      "text/plain": [
       "               Količina [kg]\n",
       "Sorta                       \n",
       "Royal Gala            535815\n",
       "Zlati Delišes         454787\n",
       "Evelina               356495\n",
       "Pinova                165786\n",
       "Idared                147204\n",
       "Jonagold               81029\n",
       "Fuji                   79252\n",
       "Braeburn               65626\n",
       "Gala                   49468\n",
       "Eko Opal               46669\n",
       "Gala Must              29543\n",
       "Elstar                 25192\n",
       "Eko Topaz              22043"
      ]
     },
     "execution_count": 118,
     "metadata": {},
     "output_type": "execute_result"
    }
   ],
   "source": [
    "univerza_mb = kvaliteta.groupby(['Dobavitelj'])\\\n",
    "    .get_group('Univerza MB').groupby('Sorta').sum().sort_values('Količina [kg]', ascending=False)\n",
    "univerza_mb"
   ]
  },
  {
   "cell_type": "code",
   "execution_count": 78,
   "metadata": {
    "collapsed": false
   },
   "outputs": [
    {
     "data": {
      "text/plain": [
       "<matplotlib.text.Text at 0x24022801d30>"
      ]
     },
     "execution_count": 78,
     "metadata": {},
     "output_type": "execute_result"
    },
    {
     "data": {
      "image/png": "[encoded data removed]",
      "text/plain": [
       "<matplotlib.figure.Figure at 0x240227cd160>"
      ]
     },
     "metadata": {},
     "output_type": "display_data"
    }
   ],
   "source": [
    "univerza_mb.plot(kind='bar', y='Količina [kg]', title=\"Količina prejetih jabolk Univerze MB po sortah\")\\\n",
    "    .set_ylabel('Količina [kg]')"
   ]
  },
  {
   "cell_type": "markdown",
   "metadata": {},
   "source": [
    "Zdaj bi rada videla, kdo izmed dobaviteljev ima največji izbor sort."
   ]
  },
  {
   "cell_type": "code",
   "execution_count": 79,
   "metadata": {
    "collapsed": false
   },
   "outputs": [],
   "source": [
    "dobavitelj = kvaliteta.groupby(['Dobavitelj', 'Sorta']).size().unstack()"
   ]
  },
  {
   "cell_type": "code",
   "execution_count": 80,
   "metadata": {
    "collapsed": false
   },
   "outputs": [],
   "source": [
    "dobavitelj1 = pd.DataFrame(dobavitelj.isnull().sum(axis=1))\n",
    "dobavitelj1.columns = ['število']"
   ]
  },
  {
   "cell_type": "code",
   "execution_count": 123,
   "metadata": {
    "collapsed": false
   },
   "outputs": [
    {
     "data": {
      "text/plain": [
       "21"
      ]
     },
     "execution_count": 123,
     "metadata": {},
     "output_type": "execute_result"
    }
   ],
   "source": [
    "št_sort = pd.DataFrame(kvaliteta.groupby('Sorta').size().reset_index())\n",
    "št_sort.shape[0]"
   ]
  },
  {
   "cell_type": "code",
   "execution_count": 124,
   "metadata": {
    "collapsed": false
   },
   "outputs": [
    {
     "data": {
      "text/html": [
       "<div>\n",
       "<table border=\"1\" class=\"dataframe\">\n",
       "  <thead>\n",
       "    <tr style=\"text-align: right;\">\n",
       "      <th></th>\n",
       "      <th>število sort na dobavitelja</th>\n",
       "    </tr>\n",
       "    <tr>\n",
       "      <th>Dobavitelj</th>\n",
       "      <th></th>\n",
       "    </tr>\n",
       "  </thead>\n",
       "  <tbody>\n",
       "    <tr>\n",
       "      <th>Univerza MB</th>\n",
       "      <td>13</td>\n",
       "    </tr>\n",
       "    <tr>\n",
       "      <th>Levak Andrej</th>\n",
       "      <td>11</td>\n",
       "    </tr>\n",
       "    <tr>\n",
       "      <th>Lah Leon</th>\n",
       "      <td>9</td>\n",
       "    </tr>\n",
       "    <tr>\n",
       "      <th>Kodrič Milena</th>\n",
       "      <td>8</td>\n",
       "    </tr>\n",
       "    <tr>\n",
       "      <th>Šušterič Vojko</th>\n",
       "      <td>8</td>\n",
       "    </tr>\n",
       "    <tr>\n",
       "      <th>Molan Mitja</th>\n",
       "      <td>6</td>\n",
       "    </tr>\n",
       "    <tr>\n",
       "      <th>Žganec Robert</th>\n",
       "      <td>6</td>\n",
       "    </tr>\n",
       "    <tr>\n",
       "      <th>VRTOVI VOČA</th>\n",
       "      <td>6</td>\n",
       "    </tr>\n",
       "    <tr>\n",
       "      <th>Uplaznik Marjan</th>\n",
       "      <td>5</td>\n",
       "    </tr>\n",
       "    <tr>\n",
       "      <th>Križančič Franc</th>\n",
       "      <td>5</td>\n",
       "    </tr>\n",
       "    <tr>\n",
       "      <th>...</th>\n",
       "      <td>...</td>\n",
       "    </tr>\n",
       "    <tr>\n",
       "      <th>Andrej  Rojc</th>\n",
       "      <td>1</td>\n",
       "    </tr>\n",
       "    <tr>\n",
       "      <th>AA3</th>\n",
       "      <td>1</td>\n",
       "    </tr>\n",
       "    <tr>\n",
       "      <th>AA4</th>\n",
       "      <td>1</td>\n",
       "    </tr>\n",
       "    <tr>\n",
       "      <th>AA9</th>\n",
       "      <td>1</td>\n",
       "    </tr>\n",
       "    <tr>\n",
       "      <th>AA5</th>\n",
       "      <td>1</td>\n",
       "    </tr>\n",
       "    <tr>\n",
       "      <th>AA8</th>\n",
       "      <td>1</td>\n",
       "    </tr>\n",
       "    <tr>\n",
       "      <th>AA6</th>\n",
       "      <td>1</td>\n",
       "    </tr>\n",
       "    <tr>\n",
       "      <th>AA7</th>\n",
       "      <td>1</td>\n",
       "    </tr>\n",
       "    <tr>\n",
       "      <th>Fragaria</th>\n",
       "      <td>1</td>\n",
       "    </tr>\n",
       "    <tr>\n",
       "      <th>AA1</th>\n",
       "      <td>1</td>\n",
       "    </tr>\n",
       "  </tbody>\n",
       "</table>\n",
       "<p>50 rows × 1 columns</p>\n",
       "</div>"
      ],
      "text/plain": [
       "                 število sort na dobavitelja\n",
       "Dobavitelj                                  \n",
       "Univerza MB                               13\n",
       "Levak Andrej                              11\n",
       "Lah Leon                                   9\n",
       "Kodrič Milena                              8\n",
       "Šušterič Vojko                             8\n",
       "Molan Mitja                                6\n",
       "Žganec Robert                              6\n",
       "VRTOVI VOČA                                6\n",
       "Uplaznik Marjan                            5\n",
       "Križančič Franc                            5\n",
       "...                                      ...\n",
       "Andrej  Rojc                               1\n",
       "AA3                                        1\n",
       "AA4                                        1\n",
       "AA9                                        1\n",
       "AA5                                        1\n",
       "AA8                                        1\n",
       "AA6                                        1\n",
       "AA7                                        1\n",
       "Fragaria                                   1\n",
       "AA1                                        1\n",
       "\n",
       "[50 rows x 1 columns]"
      ]
     },
     "execution_count": 124,
     "metadata": {},
     "output_type": "execute_result"
    }
   ],
   "source": [
    "dobavitelj1['0'] = št_sort.shape[0] - dobavitelj1['število']\n",
    "dobavitelj2 = pd.DataFrame(dobavitelj1['0'].sort_values())\n",
    "dobavitelj2.columns = ['število sort na dobavitelja']\n",
    "dobavitelj2.sort_values('število sort na dobavitelja', ascending=False)"
   ]
  },
  {
   "cell_type": "markdown",
   "metadata": {},
   "source": [
    "Vseh različnih pripeljanih sort je 21. Dobavitelj z največjim izborom sort je Univerza MB, in sicer je pripeljala 13 različnih sort."
   ]
  },
  {
   "cell_type": "markdown",
   "metadata": {},
   "source": [
    "# 3 Analiza po sortah"
   ]
  },
  {
   "cell_type": "code",
   "execution_count": 89,
   "metadata": {
    "collapsed": false
   },
   "outputs": [
    {
     "data": {
      "text/html": [
       "<div>\n",
       "<table border=\"1\" class=\"dataframe\">\n",
       "  <thead>\n",
       "    <tr style=\"text-align: right;\">\n",
       "      <th></th>\n",
       "      <th>Sorta</th>\n",
       "      <th>Količina [kg]</th>\n",
       "    </tr>\n",
       "  </thead>\n",
       "  <tbody>\n",
       "    <tr>\n",
       "      <th>0</th>\n",
       "      <td>Zlati Delišes</td>\n",
       "      <td>1961001</td>\n",
       "    </tr>\n",
       "    <tr>\n",
       "      <th>1</th>\n",
       "      <td>Royal Gala</td>\n",
       "      <td>1859515</td>\n",
       "    </tr>\n",
       "    <tr>\n",
       "      <th>2</th>\n",
       "      <td>Idared</td>\n",
       "      <td>1036789</td>\n",
       "    </tr>\n",
       "    <tr>\n",
       "      <th>3</th>\n",
       "      <td>Evelina</td>\n",
       "      <td>908451</td>\n",
       "    </tr>\n",
       "    <tr>\n",
       "      <th>4</th>\n",
       "      <td>Braeburn</td>\n",
       "      <td>867193</td>\n",
       "    </tr>\n",
       "    <tr>\n",
       "      <th>5</th>\n",
       "      <td>Granny Smith</td>\n",
       "      <td>508345</td>\n",
       "    </tr>\n",
       "    <tr>\n",
       "      <th>6</th>\n",
       "      <td>Jonagold</td>\n",
       "      <td>405566</td>\n",
       "    </tr>\n",
       "    <tr>\n",
       "      <th>7</th>\n",
       "      <td>Pinova</td>\n",
       "      <td>251666</td>\n",
       "    </tr>\n",
       "    <tr>\n",
       "      <th>8</th>\n",
       "      <td>Fuji</td>\n",
       "      <td>248083</td>\n",
       "    </tr>\n",
       "    <tr>\n",
       "      <th>9</th>\n",
       "      <td>Viljamovka</td>\n",
       "      <td>201687</td>\n",
       "    </tr>\n",
       "  </tbody>\n",
       "</table>\n",
       "</div>"
      ],
      "text/plain": [
       "           Sorta  Količina [kg]\n",
       "0  Zlati Delišes        1961001\n",
       "1     Royal Gala        1859515\n",
       "2         Idared        1036789\n",
       "3        Evelina         908451\n",
       "4       Braeburn         867193\n",
       "5   Granny Smith         508345\n",
       "6       Jonagold         405566\n",
       "7         Pinova         251666\n",
       "8           Fuji         248083\n",
       "9     Viljamovka         201687"
      ]
     },
     "execution_count": 89,
     "metadata": {},
     "output_type": "execute_result"
    }
   ],
   "source": [
    "količina_po_sortah = kvaliteta.groupby(['Sorta']).aggregate(sum).sort_values('Količina [kg]', ascending=False)[:10]\\\n",
    "    .reset_index()\n",
    "količina_po_sortah"
   ]
  },
  {
   "cell_type": "markdown",
   "metadata": {},
   "source": [
    "To je 10 količinsko najbolj zastopanih sort, ki jih bom analizirala po letih."
   ]
  },
  {
   "cell_type": "code",
   "execution_count": 97,
   "metadata": {
    "collapsed": false
   },
   "outputs": [],
   "source": [
    "top_sorte = pd.DataFrame(količina_po_sortah['Sorta'])\n",
    "top_sorte\n",
    "tabela_le_top_sorte = pd.merge(kvaliteta, top_sorte)\n",
    "tabela_top_sort = tabela_le_top_sorte.set_index('Datum')"
   ]
  },
  {
   "cell_type": "code",
   "execution_count": 98,
   "metadata": {
    "collapsed": false
   },
   "outputs": [
    {
     "data": {
      "text/html": [
       "<div>\n",
       "<table border=\"1\" class=\"dataframe\">\n",
       "  <thead>\n",
       "    <tr style=\"text-align: right;\">\n",
       "      <th></th>\n",
       "      <th>Dobavitelj</th>\n",
       "      <th>Sorta</th>\n",
       "      <th>Kvaliteta</th>\n",
       "      <th>Količina [kg]</th>\n",
       "      <th>Leto</th>\n",
       "    </tr>\n",
       "    <tr>\n",
       "      <th>Datum</th>\n",
       "      <th></th>\n",
       "      <th></th>\n",
       "      <th></th>\n",
       "      <th></th>\n",
       "      <th></th>\n",
       "    </tr>\n",
       "  </thead>\n",
       "  <tbody>\n",
       "    <tr>\n",
       "      <th>2014-06-08</th>\n",
       "      <td>BIF-VORPO</td>\n",
       "      <td>Viljamovka</td>\n",
       "      <td>I.</td>\n",
       "      <td>21789</td>\n",
       "      <td>2014</td>\n",
       "    </tr>\n",
       "    <tr>\n",
       "      <th>2014-08-08</th>\n",
       "      <td>Umek Jožefa</td>\n",
       "      <td>Viljamovka</td>\n",
       "      <td>Industrija</td>\n",
       "      <td>7680</td>\n",
       "      <td>2014</td>\n",
       "    </tr>\n",
       "    <tr>\n",
       "      <th>2014-08-08</th>\n",
       "      <td>BIF-VORPO</td>\n",
       "      <td>Viljamovka</td>\n",
       "      <td>I.</td>\n",
       "      <td>18540</td>\n",
       "      <td>2014</td>\n",
       "    </tr>\n",
       "    <tr>\n",
       "      <th>2014-08-08</th>\n",
       "      <td>BIF-VORPO</td>\n",
       "      <td>Viljamovka</td>\n",
       "      <td>I.</td>\n",
       "      <td>4099</td>\n",
       "      <td>2014</td>\n",
       "    </tr>\n",
       "    <tr>\n",
       "      <th>2014-11-08</th>\n",
       "      <td>Umek Jožefa</td>\n",
       "      <td>Viljamovka</td>\n",
       "      <td>Industrija</td>\n",
       "      <td>9627</td>\n",
       "      <td>2014</td>\n",
       "    </tr>\n",
       "    <tr>\n",
       "      <th>2014-11-08</th>\n",
       "      <td>BIF-VORPO</td>\n",
       "      <td>Viljamovka</td>\n",
       "      <td>I.</td>\n",
       "      <td>21457</td>\n",
       "      <td>2014</td>\n",
       "    </tr>\n",
       "    <tr>\n",
       "      <th>2014-08-13</th>\n",
       "      <td>Pinterič Antonija</td>\n",
       "      <td>Viljamovka</td>\n",
       "      <td>Industrija</td>\n",
       "      <td>2035</td>\n",
       "      <td>2014</td>\n",
       "    </tr>\n",
       "    <tr>\n",
       "      <th>2014-08-13</th>\n",
       "      <td>BIF-VORPO</td>\n",
       "      <td>Viljamovka</td>\n",
       "      <td>I.</td>\n",
       "      <td>15947</td>\n",
       "      <td>2014</td>\n",
       "    </tr>\n",
       "    <tr>\n",
       "      <th>2014-08-14</th>\n",
       "      <td>Kovačič Alojz</td>\n",
       "      <td>Viljamovka</td>\n",
       "      <td>Industrija</td>\n",
       "      <td>2005</td>\n",
       "      <td>2014</td>\n",
       "    </tr>\n",
       "    <tr>\n",
       "      <th>2014-08-19</th>\n",
       "      <td>Petan Marija</td>\n",
       "      <td>Viljamovka</td>\n",
       "      <td>Industrija</td>\n",
       "      <td>9724</td>\n",
       "      <td>2014</td>\n",
       "    </tr>\n",
       "    <tr>\n",
       "      <th>...</th>\n",
       "      <td>...</td>\n",
       "      <td>...</td>\n",
       "      <td>...</td>\n",
       "      <td>...</td>\n",
       "      <td>...</td>\n",
       "    </tr>\n",
       "    <tr>\n",
       "      <th>2015-10-10</th>\n",
       "      <td>Univerza MB</td>\n",
       "      <td>Fuji</td>\n",
       "      <td>I.</td>\n",
       "      <td>16590</td>\n",
       "      <td>2015</td>\n",
       "    </tr>\n",
       "    <tr>\n",
       "      <th>2015-11-10</th>\n",
       "      <td>Lah Leon</td>\n",
       "      <td>Fuji</td>\n",
       "      <td>I.</td>\n",
       "      <td>6712</td>\n",
       "      <td>2015</td>\n",
       "    </tr>\n",
       "    <tr>\n",
       "      <th>2015-10-14</th>\n",
       "      <td>Univerza MB</td>\n",
       "      <td>Fuji</td>\n",
       "      <td>I.</td>\n",
       "      <td>626</td>\n",
       "      <td>2015</td>\n",
       "    </tr>\n",
       "    <tr>\n",
       "      <th>2015-12-10</th>\n",
       "      <td>Lah Leon</td>\n",
       "      <td>Fuji</td>\n",
       "      <td>I.</td>\n",
       "      <td>2348</td>\n",
       "      <td>2015</td>\n",
       "    </tr>\n",
       "    <tr>\n",
       "      <th>2015-11-10</th>\n",
       "      <td>Uplaznik Marjan</td>\n",
       "      <td>Fuji</td>\n",
       "      <td>I.</td>\n",
       "      <td>32541</td>\n",
       "      <td>2015</td>\n",
       "    </tr>\n",
       "    <tr>\n",
       "      <th>2015-09-10</th>\n",
       "      <td>Uplaznik Marjan</td>\n",
       "      <td>Fuji</td>\n",
       "      <td>I.</td>\n",
       "      <td>20812</td>\n",
       "      <td>2015</td>\n",
       "    </tr>\n",
       "    <tr>\n",
       "      <th>2015-08-10</th>\n",
       "      <td>Uplaznik Marjan</td>\n",
       "      <td>Fuji</td>\n",
       "      <td>I.</td>\n",
       "      <td>11699</td>\n",
       "      <td>2015</td>\n",
       "    </tr>\n",
       "    <tr>\n",
       "      <th>2015-10-30</th>\n",
       "      <td>Uplaznik Marjan</td>\n",
       "      <td>Fuji</td>\n",
       "      <td>I.</td>\n",
       "      <td>3112</td>\n",
       "      <td>2015</td>\n",
       "    </tr>\n",
       "    <tr>\n",
       "      <th>2015-10-31</th>\n",
       "      <td>VRTOVI VOČA</td>\n",
       "      <td>Fuji</td>\n",
       "      <td>I.</td>\n",
       "      <td>39357</td>\n",
       "      <td>2015</td>\n",
       "    </tr>\n",
       "    <tr>\n",
       "      <th>2015-10-28</th>\n",
       "      <td>Univerza MB</td>\n",
       "      <td>Fuji</td>\n",
       "      <td>I.</td>\n",
       "      <td>4709</td>\n",
       "      <td>2015</td>\n",
       "    </tr>\n",
       "  </tbody>\n",
       "</table>\n",
       "<p>936 rows × 5 columns</p>\n",
       "</div>"
      ],
      "text/plain": [
       "                   Dobavitelj       Sorta   Kvaliteta  Količina [kg]  Leto\n",
       "Datum                                                                     \n",
       "2014-06-08          BIF-VORPO  Viljamovka          I.          21789  2014\n",
       "2014-08-08        Umek Jožefa  Viljamovka  Industrija           7680  2014\n",
       "2014-08-08          BIF-VORPO  Viljamovka          I.          18540  2014\n",
       "2014-08-08          BIF-VORPO  Viljamovka          I.           4099  2014\n",
       "2014-11-08        Umek Jožefa  Viljamovka  Industrija           9627  2014\n",
       "2014-11-08          BIF-VORPO  Viljamovka          I.          21457  2014\n",
       "2014-08-13  Pinterič Antonija  Viljamovka  Industrija           2035  2014\n",
       "2014-08-13          BIF-VORPO  Viljamovka          I.          15947  2014\n",
       "2014-08-14      Kovačič Alojz  Viljamovka  Industrija           2005  2014\n",
       "2014-08-19       Petan Marija  Viljamovka  Industrija           9724  2014\n",
       "...                       ...         ...         ...            ...   ...\n",
       "2015-10-10        Univerza MB        Fuji          I.          16590  2015\n",
       "2015-11-10           Lah Leon        Fuji          I.           6712  2015\n",
       "2015-10-14        Univerza MB        Fuji          I.            626  2015\n",
       "2015-12-10           Lah Leon        Fuji          I.           2348  2015\n",
       "2015-11-10    Uplaznik Marjan        Fuji          I.          32541  2015\n",
       "2015-09-10    Uplaznik Marjan        Fuji          I.          20812  2015\n",
       "2015-08-10    Uplaznik Marjan        Fuji          I.          11699  2015\n",
       "2015-10-30    Uplaznik Marjan        Fuji          I.           3112  2015\n",
       "2015-10-31        VRTOVI VOČA        Fuji          I.          39357  2015\n",
       "2015-10-28        Univerza MB        Fuji          I.           4709  2015\n",
       "\n",
       "[936 rows x 5 columns]"
      ]
     },
     "execution_count": 98,
     "metadata": {},
     "output_type": "execute_result"
    }
   ],
   "source": [
    "tabela_top_sort.loc[:, 'Leto'] = tabela_top_sort.index.year\n",
    "tabela_top_sort"
   ]
  },
  {
   "cell_type": "code",
   "execution_count": 100,
   "metadata": {
    "collapsed": false
   },
   "outputs": [
    {
     "data": {
      "text/plain": [
       "<matplotlib.text.Text at 0x24022a8e5f8>"
      ]
     },
     "execution_count": 100,
     "metadata": {},
     "output_type": "execute_result"
    },
    {
     "data": {
      "image/png": "[encoded data removed]",
      "text/plain": [
       "<matplotlib.figure.Figure at 0x2402289b358>"
      ]
     },
     "metadata": {},
     "output_type": "display_data"
    }
   ],
   "source": [
    "tabela_top_sort.groupby(['Sorta', 'Leto'])\\\n",
    "    .sum().unstack().plot(kind='bar', y ='Količina [kg]', title=\"Količina desetih najbolj zastopanih sort\")\\\n",
    "    .set_ylabel('Količina [kg]')"
   ]
  },
  {
   "cell_type": "code",
   "execution_count": 101,
   "metadata": {
    "collapsed": false
   },
   "outputs": [],
   "source": [
    "sorte = kvaliteta.groupby(['Sorta', 'Dobavitelj']).size().unstack()"
   ]
  },
  {
   "cell_type": "code",
   "execution_count": 102,
   "metadata": {
    "collapsed": false
   },
   "outputs": [],
   "source": [
    "sorte1 = pd.DataFrame(sorte.isnull().sum(axis=1))\n",
    "sorte1.columns = ['število']"
   ]
  },
  {
   "cell_type": "code",
   "execution_count": 125,
   "metadata": {
    "collapsed": false
   },
   "outputs": [
    {
     "data": {
      "text/plain": [
       "50"
      ]
     },
     "execution_count": 125,
     "metadata": {},
     "output_type": "execute_result"
    }
   ],
   "source": [
    "št_dobaviteljev = pd.DataFrame(kvaliteta.groupby('Dobavitelj').size().reset_index()) #Da bom vedela število dobaviteljev.\n",
    "št_dobaviteljev.shape[0]"
   ]
  },
  {
   "cell_type": "code",
   "execution_count": 126,
   "metadata": {
    "collapsed": false
   },
   "outputs": [
    {
     "data": {
      "text/html": [
       "<div>\n",
       "<table border=\"1\" class=\"dataframe\">\n",
       "  <thead>\n",
       "    <tr style=\"text-align: right;\">\n",
       "      <th></th>\n",
       "      <th>Sorta</th>\n",
       "      <th>število dobaviteljev na sorto</th>\n",
       "    </tr>\n",
       "  </thead>\n",
       "  <tbody>\n",
       "    <tr>\n",
       "      <th>0</th>\n",
       "      <td>Zlati Delišes</td>\n",
       "      <td>20</td>\n",
       "    </tr>\n",
       "    <tr>\n",
       "      <th>1</th>\n",
       "      <td>Royal Gala</td>\n",
       "      <td>20</td>\n",
       "    </tr>\n",
       "    <tr>\n",
       "      <th>2</th>\n",
       "      <td>Idared</td>\n",
       "      <td>19</td>\n",
       "    </tr>\n",
       "    <tr>\n",
       "      <th>3</th>\n",
       "      <td>Jonagold</td>\n",
       "      <td>17</td>\n",
       "    </tr>\n",
       "    <tr>\n",
       "      <th>4</th>\n",
       "      <td>Braeburn</td>\n",
       "      <td>10</td>\n",
       "    </tr>\n",
       "    <tr>\n",
       "      <th>5</th>\n",
       "      <td>Viljamovka</td>\n",
       "      <td>9</td>\n",
       "    </tr>\n",
       "    <tr>\n",
       "      <th>6</th>\n",
       "      <td>Fuji</td>\n",
       "      <td>7</td>\n",
       "    </tr>\n",
       "    <tr>\n",
       "      <th>7</th>\n",
       "      <td>Granny Smith</td>\n",
       "      <td>7</td>\n",
       "    </tr>\n",
       "    <tr>\n",
       "      <th>8</th>\n",
       "      <td>Gala</td>\n",
       "      <td>6</td>\n",
       "    </tr>\n",
       "    <tr>\n",
       "      <th>9</th>\n",
       "      <td>Gala Must</td>\n",
       "      <td>6</td>\n",
       "    </tr>\n",
       "  </tbody>\n",
       "</table>\n",
       "</div>"
      ],
      "text/plain": [
       "           Sorta  število dobaviteljev na sorto\n",
       "0  Zlati Delišes                             20\n",
       "1     Royal Gala                             20\n",
       "2         Idared                             19\n",
       "3       Jonagold                             17\n",
       "4       Braeburn                             10\n",
       "5     Viljamovka                              9\n",
       "6           Fuji                              7\n",
       "7   Granny Smith                              7\n",
       "8           Gala                              6\n",
       "9      Gala Must                              6"
      ]
     },
     "execution_count": 126,
     "metadata": {},
     "output_type": "execute_result"
    }
   ],
   "source": [
    "sorte1['0'] = št_dobaviteljev.shape[0] - sorte1['število']\n",
    "sorte2 = pd.DataFrame(sorte1['0'].sort_values())\n",
    "sorte2.columns = ['število dobaviteljev na sorto']\n",
    "sorte3 = sorte2.sort_values('število dobaviteljev na sorto', ascending=False)\n",
    "sorte4 = sorte3.reset_index()[:10]\n",
    "sorte4"
   ]
  },
  {
   "cell_type": "markdown",
   "metadata": {},
   "source": [
    "Največ dobaviteljev v hladilnico pripelje sorte Zlati Delišes, Royal Gala, Idared, Jonagold ..."
   ]
  },
  {
   "cell_type": "code",
   "execution_count": 111,
   "metadata": {
    "collapsed": false
   },
   "outputs": [
    {
     "data": {
      "text/html": [
       "<div>\n",
       "<table border=\"1\" class=\"dataframe\">\n",
       "  <thead>\n",
       "    <tr style=\"text-align: right;\">\n",
       "      <th></th>\n",
       "      <th>Sorta</th>\n",
       "      <th>Količina [kg]</th>\n",
       "      <th>število dobaviteljev na sorto</th>\n",
       "    </tr>\n",
       "  </thead>\n",
       "  <tbody>\n",
       "    <tr>\n",
       "      <th>0</th>\n",
       "      <td>Zlati Delišes</td>\n",
       "      <td>1961001</td>\n",
       "      <td>20</td>\n",
       "    </tr>\n",
       "    <tr>\n",
       "      <th>1</th>\n",
       "      <td>Royal Gala</td>\n",
       "      <td>1859515</td>\n",
       "      <td>20</td>\n",
       "    </tr>\n",
       "    <tr>\n",
       "      <th>2</th>\n",
       "      <td>Idared</td>\n",
       "      <td>1036789</td>\n",
       "      <td>19</td>\n",
       "    </tr>\n",
       "    <tr>\n",
       "      <th>3</th>\n",
       "      <td>Braeburn</td>\n",
       "      <td>867193</td>\n",
       "      <td>10</td>\n",
       "    </tr>\n",
       "    <tr>\n",
       "      <th>4</th>\n",
       "      <td>Granny Smith</td>\n",
       "      <td>508345</td>\n",
       "      <td>7</td>\n",
       "    </tr>\n",
       "    <tr>\n",
       "      <th>5</th>\n",
       "      <td>Jonagold</td>\n",
       "      <td>405566</td>\n",
       "      <td>17</td>\n",
       "    </tr>\n",
       "    <tr>\n",
       "      <th>6</th>\n",
       "      <td>Fuji</td>\n",
       "      <td>248083</td>\n",
       "      <td>7</td>\n",
       "    </tr>\n",
       "    <tr>\n",
       "      <th>7</th>\n",
       "      <td>Viljamovka</td>\n",
       "      <td>201687</td>\n",
       "      <td>9</td>\n",
       "    </tr>\n",
       "  </tbody>\n",
       "</table>\n",
       "</div>"
      ],
      "text/plain": [
       "           Sorta  Količina [kg]  število dobaviteljev na sorto\n",
       "0  Zlati Delišes        1961001                             20\n",
       "1     Royal Gala        1859515                             20\n",
       "2         Idared        1036789                             19\n",
       "3       Braeburn         867193                             10\n",
       "4   Granny Smith         508345                              7\n",
       "5       Jonagold         405566                             17\n",
       "6           Fuji         248083                              7\n",
       "7     Viljamovka         201687                              9"
      ]
     },
     "execution_count": 111,
     "metadata": {},
     "output_type": "execute_result"
    }
   ],
   "source": [
    "pd.merge(količina_po_sortah, sorte4)"
   ]
  },
  {
   "cell_type": "markdown",
   "metadata": {
    "collapsed": true
   },
   "source": [
    "Iz združene tabele vidim, da je 8 od 10-ih sort takih, za katere velja, da so med desetimi količinsko najbolj zastopanimi sortami in hkrati so med desetimi sortami, ki jih pripelje največ dobaviteljev."
   ]
  },
  {
   "cell_type": "code",
   "execution_count": null,
   "metadata": {
    "collapsed": true
   },
   "outputs": [],
   "source": []
  }
 ],
 "metadata": {
  "anaconda-cloud": {},
  "kernelspec": {
   "display_name": "Python [default]",
   "language": "python",
   "name": "python3"
  },
  "language_info": {
   "codemirror_mode": {
    "name": "ipython",
    "version": 3
   },
   "file_extension": ".py",
   "mimetype": "text/x-python",
   "name": "python",
   "nbconvert_exporter": "python",
   "pygments_lexer": "ipython3",
   "version": "3.5.2"
  }
 },
 "nbformat": 4,
 "nbformat_minor": 1
}
